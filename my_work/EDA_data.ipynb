{
 "cells": [
  {
   "cell_type": "code",
   "execution_count": 37,
   "metadata": {
    "collapsed": true
   },
   "outputs": [],
   "source": [
    "import numpy as np\n",
    "from scipy.io import loadmat\n",
    "from torch import nn\n",
    "import torch.nn.functional as F\n",
    "import torch\n",
    "from torch.autograd import Variable\n",
    "import torch.utils.data as Data\n",
    "from sklearn.preprocessing import StandardScaler\n",
    "import matplotlib.pyplot as plt"
   ]
  },
  {
   "cell_type": "code",
   "execution_count": 2,
   "metadata": {
    "collapsed": true
   },
   "outputs": [],
   "source": [
    "salinas_label = loadmat('../data2/Salinas_gt.mat')['salinas_gt']\n",
    "salinas_data = loadmat('../data2/Salinas_corrected.mat')['salinas_corrected']"
   ]
  },
  {
   "cell_type": "code",
   "execution_count": 3,
   "metadata": {},
   "outputs": [
    {
     "name": "stdout",
     "output_type": "stream",
     "text": [
      "{0: 56975, 6: 3959, 7: 3579, 4: 1394, 5: 2678, 15: 7268, 8: 11271, 3: 1976, 2: 3726, 1: 2009, 11: 1068, 12: 1927, 13: 916, 14: 1070, 10: 3278, 9: 6203, 16: 1807}\n"
     ]
    }
   ],
   "source": [
    "label_dic = {}\n",
    "for i in range(salinas_label.shape[0]):\n",
    "    for j in range(salinas_label.shape[1]):\n",
    "        if salinas_label[i][j] in label_dic:\n",
    "            label_dic[salinas_label[i][j]] += 1\n",
    "        else:\n",
    "            label_dic[salinas_label[i][j]] = 1\n",
    "print(label_dic)"
   ]
  },
  {
   "cell_type": "code",
   "execution_count": 4,
   "metadata": {
    "collapsed": true
   },
   "outputs": [],
   "source": [
    "def get_binary_data(data, label, selected_labels):\n",
    "    res_data = []\n",
    "    res_label = []\n",
    "    for i in range(label.shape[0]):\n",
    "        for j in range(label.shape[1]):\n",
    "            if label[i][j] in selected_labels:\n",
    "                res_data.append(data[i, j, :])\n",
    "                res_label.append(selected_labels[label[i][j]])\n",
    "    return np.array(res_data), np.array(res_label)"
   ]
  },
  {
   "cell_type": "code",
   "execution_count": 5,
   "metadata": {
    "collapsed": true
   },
   "outputs": [],
   "source": [
    "t_data, t_label = get_binary_data(salinas_data, salinas_label, {8:0, 16:1})"
   ]
  },
  {
   "cell_type": "code",
   "execution_count": 6,
   "metadata": {},
   "outputs": [
    {
     "name": "stdout",
     "output_type": "stream",
     "text": [
      "11271 1807\n"
     ]
    }
   ],
   "source": [
    "data_1 = []\n",
    "label_1 = []\n",
    "data_0 = []\n",
    "label_0 = []\n",
    "for i in range(len(t_label)):\n",
    "    if t_label[i] == 1:\n",
    "        data_1.append(t_data[i])\n",
    "        label_1.append(t_label[i])\n",
    "    else:\n",
    "        data_0.append(t_data[i])\n",
    "        label_0.append(t_label[i])\n",
    "print(len(data_0), len(data_1))"
   ]
  },
  {
   "cell_type": "code",
   "execution_count": 19,
   "metadata": {},
   "outputs": [
    {
     "name": "stdout",
     "output_type": "stream",
     "text": [
      "(10000, 204) (3078, 204) (10000,) (3078,)\n"
     ]
    }
   ],
   "source": [
    "train_x = data_0[:10000]\n",
    "train_y = label_0[:10000]\n",
    "test_x = data_0[10000:] + data_1\n",
    "test_y = label_0[10000:] + label_1\n",
    "train_x, test_x, train_y, test_y = np.array(train_x, dtype=np.float64), np.array(test_x, dtype=np.float64), np.array(train_y, np.float64), np.array(test_y, dtype=np.float64)\n",
    "print(train_x.shape, test_x.shape, train_y.shape, test_y.shape)"
   ]
  },
  {
   "cell_type": "code",
   "execution_count": 20,
   "metadata": {},
   "outputs": [
    {
     "data": {
      "text/plain": [
       "StandardScaler(copy=True, with_mean=True, with_std=True)"
      ]
     },
     "execution_count": 20,
     "metadata": {},
     "output_type": "execute_result"
    }
   ],
   "source": [
    "train_scaler = StandardScaler()\n",
    "train_scaler.fit(train_x)"
   ]
  },
  {
   "cell_type": "code",
   "execution_count": 22,
   "metadata": {},
   "outputs": [],
   "source": [
    "train_x = train_scaler.transform(train_x)\n",
    "test_x = train_scaler.transform(test_x)"
   ]
  },
  {
   "cell_type": "code",
   "execution_count": 26,
   "metadata": {
    "collapsed": true
   },
   "outputs": [],
   "source": [
    "class Generator(torch.nn.Module):\n",
    "    def __init__(self, n_feature, n_output):\n",
    "        super(Generator, self).__init__()\n",
    "        self.hidden_size_1 = 64\n",
    "        self.hidden_size_2 = 64\n",
    "\n",
    "        self.hidden_1 = nn.Linear(n_feature, self.hidden_size_1)\n",
    "        self.hidden_2 = nn.Linear(self.hidden_size_1, self.hidden_size_2)\n",
    "        self.output = nn.Linear(self.hidden_size_2, n_output)\n",
    "\n",
    "    def forward(self, x):\n",
    "        x = F.relu(self.hidden_1(x))\n",
    "        x = F.relu(self.hidden_2(x))\n",
    "        x = self.output(x)\n",
    "        return x\n",
    "\n",
    "\n",
    "class Discriminator(torch.nn.Module):\n",
    "    def __init__(self, n_feature, n_output):\n",
    "        super(Discriminator, self).__init__()\n",
    "        self.hidden_size_1 = 64\n",
    "        self.hidden_size_2 = 64\n",
    "\n",
    "        self.hidden_1 = nn.Linear(n_feature, self.hidden_size_1)\n",
    "        self.hidden_2 = nn.Linear(self.hidden_size_1, self.hidden_size_2)\n",
    "        self.output = nn.Linear(self.hidden_size_2, n_output)\n",
    "\n",
    "    def forward(self, x):\n",
    "        x = F.relu(self.hidden_1(x))\n",
    "        x = F.relu(self.hidden_2(x))\n",
    "        x = F.sigmoid(self.output(x))\n",
    "        return x"
   ]
  },
  {
   "cell_type": "code",
   "execution_count": 27,
   "metadata": {},
   "outputs": [],
   "source": [
    "def prepare_batch_data(train_x, test_x, train_y, test_y, use_cuda=False, add_axis=False):\n",
    "    if add_axis:\n",
    "        train_x = train_x[:, np.newaxis, :]\n",
    "        test_x = test_x[:, np.newaxis, :]\n",
    "    if use_cuda:\n",
    "        train_x = torch.FloatTensor(train_x).cuda()\n",
    "        test_x = Variable(torch.FloatTensor(test_x)).cuda()\n",
    "        train_y = torch.LongTensor(np.squeeze(np.asarray(train_y, dtype=np.int64))).cuda()\n",
    "        test_y = Variable(torch.LongTensor(np.squeeze(np.asarray(test_y, dtype=np.int64))))\n",
    "    else:\n",
    "        train_x = torch.FloatTensor(train_x)\n",
    "        test_x = Variable(torch.FloatTensor(test_x))\n",
    "        train_y = torch.LongTensor(np.squeeze(np.asarray(train_y, dtype=np.int64)))\n",
    "        test_y = Variable(torch.LongTensor(np.squeeze(np.asarray(test_y, dtype=np.int64))))\n",
    "    return train_x, test_x, train_y, test_y\n",
    "\n",
    "train_x, test_x, train_y, test_y = prepare_batch_data(train_x, test_x, train_y, test_y)"
   ]
  },
  {
   "cell_type": "code",
   "execution_count": 60,
   "metadata": {
    "collapsed": true
   },
   "outputs": [],
   "source": [
    "G = Generator(32, 204)\n",
    "D = Discriminator(204, 1)"
   ]
  },
  {
   "cell_type": "code",
   "execution_count": 61,
   "metadata": {},
   "outputs": [],
   "source": [
    "opt_G = torch.optim.Adam(G.parameters(), lr=0.000001)\n",
    "opt_D = torch.optim.Adam(D.parameters(), lr=0.000001)\n",
    "train_dataset = Data.TensorDataset(train_x, train_y)\n",
    "train_loader = Data.DataLoader(\n",
    "    dataset=train_dataset,\n",
    "    batch_size=16,\n",
    "    shuffle=True\n",
    ")"
   ]
  },
  {
   "cell_type": "code",
   "execution_count": null,
   "metadata": {
    "scrolled": true
   },
   "outputs": [
    {
     "name": "stdout",
     "output_type": "stream",
     "text": [
      "0 training...\n",
      "10 training...\n",
      "20 training...\n",
      "30 training...\n",
      "40 training...\n",
      "50 training...\n",
      "60 training...\n",
      "70 training...\n",
      "80 training...\n",
      "90 training...\n",
      "100 training...\n",
      "110 training...\n",
      "120 training...\n",
      "130 training...\n",
      "140 training...\n",
      "150 training...\n",
      "160 training...\n",
      "170 training...\n",
      "180 training...\n",
      "190 training...\n",
      "200 training...\n",
      "210 training...\n",
      "220 training...\n",
      "230 training...\n",
      "240 training...\n",
      "250 training...\n",
      "260 training...\n",
      "270 training...\n",
      "280 training...\n",
      "290 training...\n",
      "300 training...\n",
      "310 training...\n",
      "320 training...\n",
      "330 training...\n",
      "340 training...\n",
      "350 training...\n",
      "360 training...\n",
      "370 training...\n",
      "380 training...\n",
      "390 training...\n",
      "400 training...\n",
      "410 training...\n",
      "420 training...\n",
      "430 training...\n",
      "440 training...\n",
      "450 training...\n",
      "460 training...\n",
      "470 training...\n",
      "480 training...\n",
      "490 training...\n",
      "500 training...\n",
      "510 training...\n",
      "520 training...\n",
      "530 training...\n",
      "540 training...\n",
      "550 training...\n",
      "560 training...\n",
      "570 training...\n",
      "580 training...\n"
     ]
    }
   ],
   "source": [
    "G.train()\n",
    "D.train()\n",
    "prob_0s = []\n",
    "prob_1s = []\n",
    "G_losses = []\n",
    "D_losses = []\n",
    "for epoch in range(10000):\n",
    "    if epoch % 10 == 0:\n",
    "        print(epoch, 'training...')\n",
    "    for step, (batch_x, batch_y) in enumerate(train_loader):\n",
    "        batch_x, batch_y = Variable(batch_x), Variable(batch_y)\n",
    "        G_ideas = Variable(torch.randn(16, 32), requires_grad=True)\n",
    "        G_output = G(G_ideas)\n",
    "\n",
    "        prob_0 = D(batch_x)\n",
    "        prod_1 = D(G_output)\n",
    "        \n",
    "        prob_0s.append(prob_0)\n",
    "        prob_1s.append(prod_1)\n",
    "\n",
    "        D_loss = - torch.mean((torch.log(prob_0)) + (torch.log(1. - prod_1)))\n",
    "        G_loss = torch.mean(torch.log(1. - prod_1))\n",
    "        \n",
    "        G_losses.append(G_loss)\n",
    "        D_losses.append(D_loss)\n",
    "\n",
    "        opt_D.zero_grad()\n",
    "        D_loss.backward(retain_variables=True) # (retain_variables=True\n",
    "        opt_D.step()\n",
    "\n",
    "        opt_G.zero_grad()\n",
    "        G_loss.backward()\n",
    "        opt_G.step()"
   ]
  },
  {
   "cell_type": "code",
   "execution_count": 41,
   "metadata": {
    "collapsed": true
   },
   "outputs": [],
   "source": [
    "D.eval()\n",
    "test_pre = D(test_x)"
   ]
  },
  {
   "cell_type": "code",
   "execution_count": 42,
   "metadata": {},
   "outputs": [],
   "source": [
    "test_pre = test_pre.data.numpy()"
   ]
  },
  {
   "cell_type": "code",
   "execution_count": 45,
   "metadata": {},
   "outputs": [
    {
     "data": {
      "image/png": "[encoded data removed]",
      "text/plain": [
       "<matplotlib.figure.Figure at 0x7f4053b6e6d8>"
      ]
     },
     "metadata": {},
     "output_type": "display_data"
    }
   ],
   "source": [
    "plt.hist(test_pre)\n",
    "plt.show()"
   ]
  },
  {
   "cell_type": "code",
   "execution_count": 46,
   "metadata": {
    "collapsed": true
   },
   "outputs": [],
   "source": [
    "test_0 = test_pre[:1271]\n",
    "test_1 = test_pre[1271:]"
   ]
  },
  {
   "cell_type": "code",
   "execution_count": 47,
   "metadata": {},
   "outputs": [
    {
     "data": {
      "image/png": "[encoded data removed]",
      "text/plain": [
       "<matplotlib.figure.Figure at 0x7f405378f0f0>"
      ]
     },
     "metadata": {},
     "output_type": "display_data"
    }
   ],
   "source": [
    "plt.hist(test_0)\n",
    "plt.show()"
   ]
  },
  {
   "cell_type": "code",
   "execution_count": 48,
   "metadata": {},
   "outputs": [
    {
     "data": {
      "image/png": "[encoded data removed]",
      "text/plain": [
       "<matplotlib.figure.Figure at 0x7f404944fb38>"
      ]
     },
     "metadata": {},
     "output_type": "display_data"
    }
   ],
   "source": [
    "plt.hist(test_1)\n",
    "plt.show()"
   ]
  },
  {
   "cell_type": "code",
   "execution_count": 57,
   "metadata": {},
   "outputs": [
    {
     "name": "stdout",
     "output_type": "stream",
     "text": [
      "582\n"
     ]
    }
   ],
   "source": [
    "count = 0\n",
    "for i in test_0:\n",
    "    if i > 0.99:\n",
    "        count += 1\n",
    "print(count)"
   ]
  },
  {
   "cell_type": "code",
   "execution_count": 58,
   "metadata": {},
   "outputs": [
    {
     "name": "stdout",
     "output_type": "stream",
     "text": [
      "4\n"
     ]
    }
   ],
   "source": [
    "count = 0\n",
    "for i in test_1:\n",
    "    if i < 0.97:\n",
    "        count += 1\n",
    "print(count)"
   ]
  },
  {
   "cell_type": "code",
   "execution_count": 59,
   "metadata": {},
   "outputs": [
    {
     "data": {
      "text/plain": [
       "0.1903833658219623"
      ]
     },
     "execution_count": 59,
     "metadata": {},
     "output_type": "execute_result"
    }
   ],
   "source": [
    "586 / 3078"
   ]
  },
  {
   "cell_type": "code",
   "execution_count": null,
   "metadata": {
    "collapsed": true
   },
   "outputs": [],
   "source": []
  }
 ],
 "metadata": {
  "kernelspec": {
   "display_name": "Python 3",
   "language": "python",
   "name": "python3"
  },
  "language_info": {
   "codemirror_mode": {
    "name": "ipython",
    "version": 3
   },
   "file_extension": ".py",
   "mimetype": "text/x-python",
   "name": "python",
   "nbconvert_exporter": "python",
   "pygments_lexer": "ipython3",
   "version": "3.6.2"
  }
 },
 "nbformat": 4,
 "nbformat_minor": 2
}
